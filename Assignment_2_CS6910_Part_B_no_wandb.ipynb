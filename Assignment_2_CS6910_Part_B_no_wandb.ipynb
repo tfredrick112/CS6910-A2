{
  "nbformat": 4,
  "nbformat_minor": 0,
  "metadata": {
    "colab": {
      "name": "Assignment 2 CS6910 Part B no wandb",
      "provenance": [],
      "collapsed_sections": []
    },
    "kernelspec": {
      "name": "python3",
      "display_name": "Python 3"
    },
    "language_info": {
      "name": "python"
    },
    "accelerator": "GPU"
  },
  "cells": [
    {
      "cell_type": "code",
      "metadata": {
        "id": "T6WKMf6iI8gA",
        "colab": {
          "base_uri": "https://localhost:8080/"
        },
        "outputId": "d9406901-6b8a-4fe8-eab5-480b2615d68a"
      },
      "source": [
        "!nvidia-smi #connect to GPU Backend"
      ],
      "execution_count": null,
      "outputs": [
        {
          "output_type": "stream",
          "text": [
            "Fri Apr  9 11:06:15 2021       \n",
            "+-----------------------------------------------------------------------------+\n",
            "| NVIDIA-SMI 460.67       Driver Version: 460.32.03    CUDA Version: 11.2     |\n",
            "|-------------------------------+----------------------+----------------------+\n",
            "| GPU  Name        Persistence-M| Bus-Id        Disp.A | Volatile Uncorr. ECC |\n",
            "| Fan  Temp  Perf  Pwr:Usage/Cap|         Memory-Usage | GPU-Util  Compute M. |\n",
            "|                               |                      |               MIG M. |\n",
            "|===============================+======================+======================|\n",
            "|   0  Tesla T4            Off  | 00000000:00:04.0 Off |                    0 |\n",
            "| N/A   58C    P8    10W /  70W |      0MiB / 15109MiB |      0%      Default |\n",
            "|                               |                      |                  N/A |\n",
            "+-------------------------------+----------------------+----------------------+\n",
            "                                                                               \n",
            "+-----------------------------------------------------------------------------+\n",
            "| Processes:                                                                  |\n",
            "|  GPU   GI   CI        PID   Type   Process name                  GPU Memory |\n",
            "|        ID   ID                                                   Usage      |\n",
            "|=============================================================================|\n",
            "|  No running processes found                                                 |\n",
            "+-----------------------------------------------------------------------------+\n"
          ],
          "name": "stdout"
        }
      ]
    },
    {
      "cell_type": "code",
      "metadata": {
        "id": "FGnSDtOJJoAX"
      },
      "source": [
        "try:\n",
        "    shutil.rmtree(\"inaturalist_12K\")\n",
        "except:\n",
        "    pass\n",
        "\n",
        "try:\n",
        "    os.remove(\"nature_12K.zip\")\n",
        "except:\n",
        "    pass"
      ],
      "execution_count": null,
      "outputs": []
    },
    {
      "cell_type": "code",
      "metadata": {
        "colab": {
          "base_uri": "https://localhost:8080/"
        },
        "id": "h4C6P4UBK0d3",
        "outputId": "ff1fba1d-6472-47f5-ec20-360005a316ed"
      },
      "source": [
        "!gdown https://drive.google.com/uc?id=1AWK5fe-W29Bry_GytbDMqoFwQXVom56s"
      ],
      "execution_count": null,
      "outputs": [
        {
          "output_type": "stream",
          "text": [
            "Downloading...\n",
            "From: https://drive.google.com/uc?id=1AWK5fe-W29Bry_GytbDMqoFwQXVom56s\n",
            "To: /content/nature_12K.zip\n",
            "3.82GB [01:04, 59.3MB/s]\n"
          ],
          "name": "stdout"
        }
      ]
    },
    {
      "cell_type": "code",
      "metadata": {
        "id": "r8tbslqnK2OW"
      },
      "source": [
        "%%capture\n",
        "!unzip \"/content/nature_12K.zip\""
      ],
      "execution_count": null,
      "outputs": []
    },
    {
      "cell_type": "code",
      "metadata": {
        "id": "IzA91AxVK575"
      },
      "source": [
        "%%capture\n",
        "! pip install wandb"
      ],
      "execution_count": null,
      "outputs": []
    },
    {
      "cell_type": "code",
      "metadata": {
        "id": "pcEpI5QmK7o-"
      },
      "source": [
        "!find . -name \"*.DS_Store\" -type f -delete"
      ],
      "execution_count": null,
      "outputs": []
    },
    {
      "cell_type": "markdown",
      "metadata": {
        "id": "wQPOeCWwLNEK"
      },
      "source": [
        "# Importing Libraries"
      ]
    },
    {
      "cell_type": "code",
      "metadata": {
        "id": "KLBiF14LK9R4"
      },
      "source": [
        "import numpy as np\n",
        "import os\n",
        "import matplotlib.pyplot as plt\n",
        "import keras\n",
        "from keras.layers import Conv2D , MaxPool2D , Flatten , Dropout, Dense, Activation, BatchNormalization\n",
        "from keras.optimizers import Adam, RMSprop, SGD\n",
        "from sklearn.metrics import classification_report,confusion_matrix\n",
        "import seaborn as sns\n",
        "from keras.preprocessing.image import ImageDataGenerator\n",
        "import tensorflow as tf\n",
        "from keras.models import Sequential, load_model\n",
        "import random\n",
        "import wandb\n",
        "import shutil\n",
        "from tqdm import tqdm\n",
        "from tensorflow.keras.preprocessing.image import ImageDataGenerator\n",
        "from keras.callbacks import EarlyStopping, ModelCheckpoint\n",
        "from wandb.keras import WandbCallback"
      ],
      "execution_count": null,
      "outputs": []
    },
    {
      "cell_type": "markdown",
      "metadata": {
        "id": "4Qf_02vSL1U_"
      },
      "source": [
        "# Exploring the Data"
      ]
    },
    {
      "cell_type": "code",
      "metadata": {
        "colab": {
          "base_uri": "https://localhost:8080/"
        },
        "id": "9o4e59GHLMTG",
        "outputId": "08749234-6d18-4cd0-e1e3-dd55483dc981"
      },
      "source": [
        "# list of class names\n",
        "temp = os.listdir(\"inaturalist_12K/train\")\n",
        "class_names = [name for name in temp if name != \".DS_Store\"]\n",
        "print(\"The names of the classes are:\")\n",
        "print(class_names)\n",
        "\n",
        "num_classes = len(class_names)\n",
        "print(f\"Number of classes = {num_classes}\\n\")\n",
        "\n",
        "M = 0\n",
        "M_test = 0\n",
        "\n",
        "for each_class in class_names:\n",
        "    train_images = os.listdir(\"inaturalist_12K/train/\"+each_class)\n",
        "    test_images = os.listdir(\"inaturalist_12K/val/\"+each_class)\n",
        "    filtered_train_images = list(filter(lambda x: x!=\".DS_Store\", train_images))\n",
        "    filtered_test_images = list(filter(lambda x: x!=\".DS_Store\", test_images))\n",
        "    M = M + len(filtered_train_images)\n",
        "    M_test = M_test + len(filtered_test_images)\n",
        "\n",
        "print(f\"Total number of training images = {M}\")\n",
        "print(f\"Total number of test images = {M_test}\\n\")"
      ],
      "execution_count": null,
      "outputs": [
        {
          "output_type": "stream",
          "text": [
            "The names of the classes are:\n",
            "['Fungi', 'Mammalia', 'Aves', 'Mollusca', 'Animalia', 'Reptilia', 'Arachnida', 'Insecta', 'Amphibia', 'Plantae']\n",
            "Number of classes = 10\n",
            "\n",
            "Total number of training images = 9000\n",
            "Total number of test images = 2000\n",
            "\n"
          ],
          "name": "stdout"
        }
      ]
    },
    {
      "cell_type": "markdown",
      "metadata": {
        "id": "tgJXXFfd1S0z"
      },
      "source": [
        "Since the image sizes of the naturalist data set are varied and we are constrained by computational resources, we shall resize all the images to (224,224) rgb\n",
        "\n",
        "\n",
        "\n",
        "\n",
        "\n"
      ]
    },
    {
      "cell_type": "code",
      "metadata": {
        "id": "WXkxnQBmMJeQ"
      },
      "source": [
        "input_image_shape = (224, 224, 3)"
      ],
      "execution_count": null,
      "outputs": []
    },
    {
      "cell_type": "markdown",
      "metadata": {
        "id": "GjzBx4ldMuDf"
      },
      "source": [
        "Create Validation Set"
      ]
    },
    {
      "cell_type": "code",
      "metadata": {
        "id": "cUpxEpa4MPNV"
      },
      "source": [
        "validation_split_fraction = 0.1\n",
        "\n",
        "try:\n",
        "    shutil.rmtree(\"inaturalist_12K/validation/\")\n",
        "except:\n",
        "    pass\n",
        "    \n",
        "os.mkdir(\"inaturalist_12K/validation/\")\n",
        "\n",
        "for each_class in class_names:\n",
        "    os.mkdir(\"inaturalist_12K/validation/\"+each_class)\n",
        "    train_images = os.listdir(\"inaturalist_12K/train/\"+each_class)\n",
        "    filtered_train_images = list(filter(lambda x: x!=\".DS_Store\", train_images))\n",
        "    count = len(filtered_train_images)\n",
        "    random.shuffle(filtered_train_images) # Shuffle the training images\n",
        "\n",
        "    validation_images = filtered_train_images[:round(validation_split_fraction*count)]\n",
        "\n",
        "    for im in validation_images:\n",
        "        shutil.move(\"inaturalist_12K/train/\"+each_class+\"/\"+im, \"inaturalist_12K/validation/\"+each_class+\"/\"+im)"
      ],
      "execution_count": null,
      "outputs": []
    },
    {
      "cell_type": "markdown",
      "metadata": {
        "id": "BpVASZBaAEB2"
      },
      "source": [
        "### Setting up Train Test and Validation generators"
      ]
    },
    {
      "cell_type": "code",
      "metadata": {
        "id": "0fWRZjIIMwou"
      },
      "source": [
        "def make_generators(train_batch_size, data_aug):\n",
        "    '''make train,test and validation image generators based on image augmentation flag\n",
        "  \n",
        "    Parameters:\n",
        "    -----------\n",
        "    train_batch_size: int\n",
        "\n",
        "    data_aug: bool\n",
        "      True if data augmentation is intended\n",
        "\n",
        "    Returns:\n",
        "    --------\n",
        "    train_generator,validation_generator and test_generator\n",
        "\n",
        "    '''\n",
        "\n",
        "    if data_aug:\n",
        "        train_datagen = ImageDataGenerator(rescale=1./255,\n",
        "                                        height_shift_range=0.2,\n",
        "                                        width_shift_range=0.2,\n",
        "                                        horizontal_flip=True,\n",
        "                                        zoom_range=0.2,\n",
        "                                        fill_mode=\"nearest\")\n",
        "    else:\n",
        "        train_datagen = ImageDataGenerator(rescale=1./255)\n",
        "\n",
        "    val_datagen = ImageDataGenerator(rescale=1./255)\n",
        "\n",
        "    test_datagen = ImageDataGenerator(rescale=1./255)\n",
        "\n",
        "    train_generator = train_datagen.flow_from_directory(\n",
        "        'inaturalist_12K/train',\n",
        "        target_size=input_image_shape[:2],\n",
        "        color_mode=\"rgb\",\n",
        "        batch_size=train_batch_size,\n",
        "        class_mode='categorical',\n",
        "        shuffle=True,\n",
        "        seed=42)\n",
        "\n",
        "    # batch_size for validation and test generator should perfectly divide the total number of examples\n",
        "    validation_generator = val_datagen.flow_from_directory(\n",
        "        'inaturalist_12K/validation',\n",
        "        target_size=input_image_shape[:2],\n",
        "        color_mode=\"rgb\",\n",
        "        batch_size=100,\n",
        "        class_mode='categorical',\n",
        "        shuffle=True,\n",
        "        seed=42)\n",
        "\n",
        "    test_generator = test_datagen.flow_from_directory(\n",
        "        'inaturalist_12K/val',\n",
        "        target_size=input_image_shape[:2],\n",
        "        color_mode=\"rgb\",\n",
        "        batch_size=100,\n",
        "        class_mode='categorical',\n",
        "        shuffle=False,\n",
        "        seed=42)\n",
        "    \n",
        "    return train_generator, validation_generator, test_generator"
      ],
      "execution_count": null,
      "outputs": []
    },
    {
      "cell_type": "code",
      "metadata": {
        "id": "ivxvVbFGP2DP"
      },
      "source": [
        "import tensorflow.keras as K\n"
      ],
      "execution_count": null,
      "outputs": []
    },
    {
      "cell_type": "markdown",
      "metadata": {
        "id": "X-SCJ7iQAKw2"
      },
      "source": [
        "### Build the model"
      ]
    },
    {
      "cell_type": "code",
      "metadata": {
        "id": "aOA3cJ0QjE46"
      },
      "source": [
        "def define_model(pretrained_model_name, activation_function_dense, fc_layer, dropout, pre_layer_train=None):\n",
        "    '''\n",
        "    define a keras sequential model based on a pre-trained model intended to be fine tuned\n",
        "    '''\n",
        "\n",
        "    input_ = K.Input(shape = input_image_shape)\n",
        "\n",
        "    # add a pretrained model without the top dense layer\n",
        "    if pretrained_model_name == 'ResNet50':\n",
        "      pretrained_model = K.applications.ResNet50(include_top = False, weights='imagenet',input_tensor = input_)\n",
        "    elif pretrained_model_name == 'InceptionV3':\n",
        "      pretrained_model = K.applications.InceptionV3(include_top = False, weights='imagenet',input_tensor = input_)\n",
        "    elif pretrained_model_name == 'InceptionResNetV2':\n",
        "      pretrained_model = K.applications.InceptionResNetV2(include_top = False, weights='imagenet',input_tensor = input_)\n",
        "    else:\n",
        "      pretrained_model = K.applications.Xception(include_top = False, weights='imagenet',input_tensor = input_)\n",
        "    \n",
        "    #freeze all layers\n",
        "    for layer in pretrained_model.layers:\n",
        "        layer.trainable=False \n",
        "    \n",
        "    #set some of the top layers as trainable\n",
        "    if pre_layer_train:\n",
        "      for layer in pretrained_model.layers[-pre_layer_train:]:\n",
        "        layer.trainable=True\n",
        "\n",
        "    model = K.models.Sequential()\n",
        "    model.add(pretrained_model)#add pretrained model\n",
        "    model.add(Flatten()) # The flatten layer is essential to convert the feature map into a column vector\n",
        "    model.add(Dense(fc_layer, activation=activation_function_dense))#add a dense layer\n",
        "    model.add(Dropout(dropout)) # For dropout\n",
        "    model.add(Dense(10, activation=\"softmax\"))#softmax layer\n",
        "\n",
        "    return model"
      ],
      "execution_count": null,
      "outputs": []
    },
    {
      "cell_type": "code",
      "metadata": {
        "id": "QMXDvjkMWq6Q"
      },
      "source": [
        "def train_validate_model(train_batch_size, pre_train_model, data_aug, activation_function_dense, fc_layer, dropout, pre_layer_train=None):\n",
        "  '''\n",
        "  train the model based on the given hyperparameters and plot the train and validation metrics at every epoch\n",
        "  '''\n",
        "  # Create the data generators\n",
        "  train_generator, validation_generator, test_generator = make_generators(train_batch_size, data_aug)\n",
        "    \n",
        "  # Define the model\n",
        "  model = define_model(pretrained_model_name=pre_train_model, activation_function_dense=activation_function_dense, fc_layer=fc_layer, dropout=dropout, pre_layer_train=pre_layer_train)\n",
        "  print(model.summary())\n",
        "\n",
        "  TRAIN_STEP_SIZE = train_generator.n//train_generator.batch_size\n",
        "  VALIDATION_STEP_SIZE = validation_generator.n//validation_generator.batch_size\n",
        "\n",
        "  #compile\n",
        "  model.compile(optimizer=Adam(lr=0.0001), loss = 'categorical_crossentropy', metrics = ['accuracy'])\n",
        "\n",
        "  # Early Stopping callback\n",
        "  earlyStopping = EarlyStopping(monitor='val_loss', patience=10, verbose=0, mode='min')\n",
        "\n",
        "  # To save the model with best validation accuracy\n",
        "  mc = ModelCheckpoint('best_model.h5', monitor='val_accuracy', mode='max', verbose=0, save_best_only=True)\n",
        "\n",
        "  history = model.fit(train_generator,\n",
        "                      steps_per_epoch = TRAIN_STEP_SIZE,\n",
        "                      validation_data = validation_generator,\n",
        "                      validation_steps = VALIDATION_STEP_SIZE,\n",
        "                      epochs=5, \n",
        "                      callbacks=[earlyStopping, mc],\n",
        "                      verbose=2)\n",
        "\n",
        "  plt.plot(history.history['accuracy'])\n",
        "  plt.plot(history.history['val_accuracy'])\n",
        "  plt.title('Model accuracy')\n",
        "  plt.ylabel('Accuracy')\n",
        "  plt.xlabel('Epoch')\n",
        "  plt.legend(['Train', 'Validation'], loc='upper left')\n",
        "  plt.show()\n",
        "\n",
        "  plt.plot(history.history['loss'])\n",
        "  plt.plot(history.history['val_loss'])\n",
        "  plt.title('Model loss')\n",
        "  plt.ylabel('Loss')\n",
        "  plt.xlabel('Epoch')\n",
        "  plt.legend(['Train', 'Validation'], loc='upper left')\n",
        "  plt.show()\n",
        "\n",
        "  return history"
      ],
      "execution_count": null,
      "outputs": []
    },
    {
      "cell_type": "markdown",
      "metadata": {
        "id": "jqbC_XAtBd8i"
      },
      "source": [
        "### Best model"
      ]
    },
    {
      "cell_type": "code",
      "metadata": {
        "id": "7RWYFlbVPFsa"
      },
      "source": [
        "def train_validate_test_model(train_batch_size, pre_train_model, data_aug, activation_function_dense, fc_layer, dropout, epochs, pre_layer_train=None):\n",
        "  '''\n",
        "  train the model based on the given hyperparameters and plot the train and validation metrics at every epoch.\n",
        "  print the test accuracy\n",
        "  '''\n",
        "  # Create the data generators\n",
        "  train_generator, validation_generator, test_generator = make_generators(train_batch_size, data_aug)\n",
        "    \n",
        "  # Define the model\n",
        "  model = define_model(pretrained_model_name=pre_train_model, activation_function_dense=activation_function_dense, fc_layer=fc_layer, dropout=dropout, pre_layer_train=pre_layer_train)\n",
        "  print(model.summary())\n",
        "\n",
        "  TRAIN_STEP_SIZE = train_generator.n//train_generator.batch_size\n",
        "  VALIDATION_STEP_SIZE = validation_generator.n//validation_generator.batch_size\n",
        "  TEST_STEP_SIZE = test_generator.n//test_generator.batch_size\n",
        "\n",
        "  model.compile(optimizer=Adam(lr=0.0001), loss = 'categorical_crossentropy', metrics = ['accuracy'])\n",
        "\n",
        "  # Early Stopping callback\n",
        "  earlyStopping = EarlyStopping(monitor='val_loss', patience=10, verbose=0, mode='min')\n",
        "\n",
        "  # To save the model with best validation accuracy\n",
        "  mc = ModelCheckpoint('best_model.h5', monitor='val_accuracy', mode='max', verbose=0, save_best_only=True)\n",
        "\n",
        "  history = model.fit(train_generator,\n",
        "                      steps_per_epoch = TRAIN_STEP_SIZE,\n",
        "                      validation_data = validation_generator,\n",
        "                      validation_steps = VALIDATION_STEP_SIZE,\n",
        "                      epochs=epochs, \n",
        "                      callbacks=[earlyStopping, mc],\n",
        "                      verbose=2)\n",
        "\n",
        "  plt.plot(history.history['accuracy'])\n",
        "  plt.plot(history.history['val_accuracy'])\n",
        "  plt.title('Model accuracy')\n",
        "  plt.ylabel('Accuracy')\n",
        "  plt.xlabel('Epoch')\n",
        "  plt.legend(['Train', 'Validation'], loc='upper left')\n",
        "  plt.show()\n",
        "\n",
        "  plt.plot(history.history['loss'])\n",
        "  plt.plot(history.history['val_loss'])\n",
        "  plt.title('Model loss')\n",
        "  plt.ylabel('Loss')\n",
        "  plt.xlabel('Epoch')\n",
        "  plt.legend(['Train', 'Validation'], loc='upper left')\n",
        "  plt.show()\n",
        "\n",
        "  print(\"Test accuracy = \" + str(model.evaluate_generator(test_generator,TEST_STEP_SIZE)[1])+\"%\")\n",
        "\n",
        "  return history"
      ],
      "execution_count": null,
      "outputs": []
    },
    {
      "cell_type": "markdown",
      "metadata": {
        "id": "ouJZZXD0X2Gy"
      },
      "source": [
        "### The best model according to wandb sweeps is given below"
      ]
    },
    {
      "cell_type": "code",
      "metadata": {
        "id": "xaV2qQ7eyrfd",
        "colab": {
          "base_uri": "https://localhost:8080/",
          "height": 1000
        },
        "outputId": "517231dc-3c32-405f-a0cd-047d8a60bd0d"
      },
      "source": [
        "train_validate_test_model(train_batch_size=128, pre_train_model='InceptionResNetV2', data_aug=False, activation_function_dense='relu', fc_layer=512, dropout=0.2, epochs= 10, pre_layer_train=20)"
      ],
      "execution_count": null,
      "outputs": [
        {
          "output_type": "stream",
          "text": [
            "Found 8100 images belonging to 10 classes.\n",
            "Found 900 images belonging to 10 classes.\n",
            "Found 2000 images belonging to 10 classes.\n",
            "Model: \"sequential_4\"\n",
            "_________________________________________________________________\n",
            "Layer (type)                 Output Shape              Param #   \n",
            "=================================================================\n",
            "inception_resnet_v2 (Functio (None, 5, 5, 1536)        54336736  \n",
            "_________________________________________________________________\n",
            "flatten_4 (Flatten)          (None, 38400)             0         \n",
            "_________________________________________________________________\n",
            "dense_8 (Dense)              (None, 512)               19661312  \n",
            "_________________________________________________________________\n",
            "dropout_4 (Dropout)          (None, 512)               0         \n",
            "_________________________________________________________________\n",
            "dense_9 (Dense)              (None, 10)                5130      \n",
            "=================================================================\n",
            "Total params: 74,003,178\n",
            "Trainable params: 24,897,418\n",
            "Non-trainable params: 49,105,760\n",
            "_________________________________________________________________\n",
            "None\n",
            "Epoch 1/10\n",
            "63/63 - 118s - loss: 1.0140 - accuracy: 0.7017 - val_loss: 0.8380 - val_accuracy: 0.7422\n",
            "Epoch 2/10\n",
            "63/63 - 104s - loss: 0.4671 - accuracy: 0.8500 - val_loss: 0.7838 - val_accuracy: 0.7589\n",
            "Epoch 3/10\n",
            "63/63 - 105s - loss: 0.2497 - accuracy: 0.9215 - val_loss: 0.8621 - val_accuracy: 0.7489\n",
            "Epoch 4/10\n",
            "63/63 - 104s - loss: 0.1289 - accuracy: 0.9656 - val_loss: 0.8630 - val_accuracy: 0.7611\n",
            "Epoch 5/10\n",
            "63/63 - 105s - loss: 0.0593 - accuracy: 0.9876 - val_loss: 0.9580 - val_accuracy: 0.7611\n",
            "Epoch 6/10\n",
            "63/63 - 105s - loss: 0.0344 - accuracy: 0.9946 - val_loss: 1.0696 - val_accuracy: 0.7589\n",
            "Epoch 7/10\n",
            "63/63 - 105s - loss: 0.0178 - accuracy: 0.9980 - val_loss: 0.9933 - val_accuracy: 0.7644\n",
            "Epoch 8/10\n",
            "63/63 - 105s - loss: 0.0116 - accuracy: 0.9991 - val_loss: 1.0894 - val_accuracy: 0.7644\n",
            "Epoch 9/10\n",
            "63/63 - 105s - loss: 0.0083 - accuracy: 0.9994 - val_loss: 1.0973 - val_accuracy: 0.7689\n",
            "Epoch 10/10\n",
            "63/63 - 105s - loss: 0.0052 - accuracy: 0.9999 - val_loss: 1.1293 - val_accuracy: 0.7744\n"
          ],
          "name": "stdout"
        },
        {
          "output_type": "display_data",
          "data": {
            "image/png": "[encoded data removed]",
            "text/plain": [
              "<Figure size 432x288 with 1 Axes>"
            ]
          },
          "metadata": {
            "tags": [],
            "needs_background": "light"
          }
        },
        {
          "output_type": "display_data",
          "data": {
            "image/png": "[encoded data removed]",
            "text/plain": [
              "<Figure size 432x288 with 1 Axes>"
            ]
          },
          "metadata": {
            "tags": [],
            "needs_background": "light"
          }
        },
        {
          "output_type": "stream",
          "text": [
            "/usr/local/lib/python3.7/dist-packages/tensorflow/python/keras/engine/training.py:1877: UserWarning: `Model.evaluate_generator` is deprecated and will be removed in a future version. Please use `Model.evaluate`, which supports generators.\n",
            "  warnings.warn('`Model.evaluate_generator` is deprecated and '\n"
          ],
          "name": "stderr"
        },
        {
          "output_type": "stream",
          "text": [
            "Test accuracy = 0.7975000143051147%\n"
          ],
          "name": "stdout"
        },
        {
          "output_type": "execute_result",
          "data": {
            "text/plain": [
              "<tensorflow.python.keras.callbacks.History at 0x7f1b43c70b90>"
            ]
          },
          "metadata": {
            "tags": []
          },
          "execution_count": 21
        }
      ]
    },
    {
      "cell_type": "code",
      "metadata": {
        "id": "yQWhKQ6PTUPR"
      },
      "source": [
        ""
      ],
      "execution_count": null,
      "outputs": []
    }
  ]
}